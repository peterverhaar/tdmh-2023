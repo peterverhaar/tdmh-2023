{
 "cells": [
  {
   "cell_type": "code",
   "execution_count": 1,
   "id": "06967439",
   "metadata": {},
   "outputs": [],
   "source": [
    "import tdmh\n",
    "import requests\n",
    "from nltk.corpus import stopwords\n",
    "import re\n",
    "\n",
    "from nltk.corpus import stopwords\n",
    "stop_words = set(stopwords.words('english'))"
   ]
  },
  {
   "cell_type": "code",
   "execution_count": 2,
   "id": "1c1812cc",
   "metadata": {},
   "outputs": [],
   "source": [
    "txt_url = 'https://www.gutenberg.org/files/4217/4217-0.txt'"
   ]
  },
  {
   "cell_type": "markdown",
   "id": "fe191d9b",
   "metadata": {},
   "source": [
    "## Download full text"
   ]
  },
  {
   "cell_type": "code",
   "execution_count": 3,
   "id": "9ba4d824",
   "metadata": {},
   "outputs": [],
   "source": [
    "full_text = ''\n",
    "response = requests.get(txt_url)\n",
    "if response:\n",
    "    full_text = response.text\n",
    "    full_text = tdmh.remove_pg_boilerplate(full_text)\n",
    "    full_text = re.sub( r'â' , \"'\" , full_text )"
   ]
  },
  {
   "cell_type": "markdown",
   "id": "fb20abd3",
   "metadata": {},
   "source": [
    "## Make a list with the various chapters"
   ]
  },
  {
   "cell_type": "code",
   "execution_count": 4,
   "id": "cd895d49",
   "metadata": {},
   "outputs": [],
   "source": [
    "lines = re.split('\\n', full_text )\n",
    "chapters = []\n",
    "chapter_text = ''\n",
    "for line in lines:\n",
    "    if re.search( r'^Chapter\\s+\\w+' , line , re.IGNORECASE ):\n",
    "        chapters.append(chapter_text)\n",
    "        chapter_text = ''\n",
    "    else:\n",
    "        chapter_text += line + '\\n'\n",
    "        \n",
    "if len(chapter_text) > 0:\n",
    "    chapters.append(chapter_text)\n",
    "    \n",
    "del chapters[0]"
   ]
  },
  {
   "cell_type": "markdown",
   "id": "8db6ca1f",
   "metadata": {},
   "source": [
    "## Calculate word frequencies"
   ]
  },
  {
   "cell_type": "code",
   "execution_count": 18,
   "id": "7043dd46",
   "metadata": {},
   "outputs": [],
   "source": [
    "words = tdmh.tokenise(full_text)\n",
    "freq = dict()\n",
    "for w in words:\n",
    "    w = w.lower()\n",
    "    w = w.encode(\"ascii\", errors=\"ignore\").decode()\n",
    "    freq[w] = freq.get(w,0)+1"
   ]
  },
  {
   "cell_type": "code",
   "execution_count": 19,
   "id": "d4ad5403",
   "metadata": {},
   "outputs": [
    {
     "name": "stdout",
     "output_type": "stream",
     "text": [
      "the \t 5909\n",
      "and \t 3372\n",
      "of \t 3150\n",
      "a \t 1949\n",
      "to \t 1928\n",
      "he \t 1852\n",
      "his \t 1743\n",
      "in \t 1534\n",
      "was \t 1066\n",
      "that \t 948\n",
      "had \t 902\n",
      "it \t 849\n",
      "him \t 703\n",
      "you \t 698\n",
      "said \t 614\n",
      "with \t 572\n",
      "i \t 540\n",
      "on \t 535\n",
      "for \t 528\n",
      "from \t 483\n",
      "at \t 478\n",
      "as \t 470\n",
      "not \t 447\n",
      "is \t 446\n",
      "by \t 396\n",
      "they \t 382\n",
      "stephen \t 371\n",
      "be \t 361\n",
      "but \t 355\n",
      "were \t 337\n"
     ]
    }
   ],
   "source": [
    "maximum = 30\n",
    "\n",
    "for w in list(tdmh.sortedByValue(freq,ascending=False))[:maximum]:\n",
    "    print(w,'\\t',freq[w])"
   ]
  },
  {
   "cell_type": "code",
   "execution_count": 21,
   "id": "1ecd3706",
   "metadata": {},
   "outputs": [
    {
     "data": {
      "image/png": "[encoded data removed]",
      "text/plain": [
       "<Figure size 720x360 with 1 Axes>"
      ]
     },
     "metadata": {
      "needs_background": "light"
     },
     "output_type": "display_data"
    }
   ],
   "source": [
    "most_frequent = dict()\n",
    "\n",
    "for word in list(tdmh.sortedByValue(freq,ascending=False))[:maximum]:\n",
    "    most_frequent[word] = freq[word]\n",
    "    \n",
    "import matplotlib.pyplot as plt\n",
    "import seaborn as sns\n",
    "\n",
    "\n",
    "fig = plt.figure( figsize=( 10 , 5 ) )\n",
    "\n",
    "\n",
    "\n",
    "graph = sns.barplot( x= list(most_frequent.keys()), y= list(most_frequent.values()) , color = '#19078c' , dodge=False )\n",
    "\n",
    "graph.set_title('A Portrait of the Artist' , size = 20) \n",
    "graph.set_xlabel('Words' , size = 14) \n",
    "graph.set_ylabel('Frequencies' , size = 14 )\n",
    "\n",
    "plt.xticks(rotation= 80)\n",
    "\n",
    "plt.show()\n"
   ]
  },
  {
   "cell_type": "markdown",
   "id": "83d08e50",
   "metadata": {},
   "source": [
    "## Most frequent words: ignoring stopwords"
   ]
  },
  {
   "cell_type": "code",
   "execution_count": 5,
   "id": "49c03113",
   "metadata": {},
   "outputs": [],
   "source": [
    "words = tdmh.tokenise(full_text)\n",
    "freq = dict()\n",
    "for w in words:\n",
    "    if w not in list(stop_words):\n",
    "        w = w.lower()\n",
    "        w = w.encode(\"ascii\", errors=\"ignore\").decode()\n",
    "        freq[w] = freq.get(w,0)+1\n",
    "    "
   ]
  },
  {
   "cell_type": "code",
   "execution_count": 17,
   "id": "5728f429",
   "metadata": {},
   "outputs": [
    {
     "name": "stdout",
     "output_type": "stream",
     "text": [
      "said \t 614\n",
      "stephen \t 371\n",
      "would \t 275\n",
      "like \t 219\n",
      "one \t 217\n",
      "god \t 191\n",
      "eyes \t 172\n",
      "soul \t 170\n",
      "father \t 151\n",
      "could \t 149\n",
      "mr \t 136\n",
      "little \t 130\n",
      "life \t 129\n",
      "face \t 128\n",
      "cranly \t 124\n",
      "dedalus \t 123\n",
      "first \t 122\n",
      "upon \t 121\n",
      "back \t 117\n",
      "time \t 117\n",
      "day \t 114\n",
      "made \t 113\n",
      "old \t 109\n",
      "i \t 109\n",
      "mind \t 108\n",
      "voice \t 104\n",
      "asked \t 104\n",
      "know \t 103\n",
      "come \t 103\n",
      "felt \t 99\n"
     ]
    }
   ],
   "source": [
    "maximum = 30\n",
    "\n",
    "for w in list(tdmh.sortedByValue(freq,ascending=False))[:maximum]:\n",
    "    print(w,'\\t',freq[w])"
   ]
  },
  {
   "cell_type": "code",
   "execution_count": 7,
   "id": "8954e31c",
   "metadata": {},
   "outputs": [],
   "source": [
    "most_frequent = dict()\n",
    "\n",
    "for word in list(tdmh.sortedByValue(freq,ascending=False))[:maximum]:\n",
    "    most_frequent[word] = freq[word]\n"
   ]
  },
  {
   "cell_type": "code",
   "execution_count": 8,
   "id": "b9a4bd3d",
   "metadata": {},
   "outputs": [
    {
     "data": {
      "image/png": "[encoded data removed]",
      "text/plain": [
       "<Figure size 720x360 with 1 Axes>"
      ]
     },
     "metadata": {
      "needs_background": "light"
     },
     "output_type": "display_data"
    }
   ],
   "source": [
    "import matplotlib.pyplot as plt\n",
    "import seaborn as sns\n",
    "\n",
    "\n",
    "fig = plt.figure( figsize=( 10 , 5 ) )\n",
    "\n",
    "\n",
    "\n",
    "graph = sns.barplot( x= list(most_frequent.keys()), y= list(most_frequent.values()) , color = '#19078c' , dodge=False )\n",
    "\n",
    "graph.set_title('A Portrait of the Artist' , size = 20) \n",
    "graph.set_xlabel('Words' , size = 14) \n",
    "graph.set_ylabel('Frequencies' , size = 14 )\n",
    "\n",
    "plt.xticks(rotation= 80)\n",
    "\n",
    "plt.show()"
   ]
  },
  {
   "cell_type": "markdown",
   "id": "37d37683",
   "metadata": {},
   "source": [
    "## Type-token ratios of the chapters in the novel"
   ]
  },
  {
   "cell_type": "code",
   "execution_count": 9,
   "id": "aefb602a",
   "metadata": {},
   "outputs": [],
   "source": [
    "ttr = []\n",
    "chapters_id = []\n",
    "\n",
    "words = tdmh.tokenise(full_text)\n",
    "shortest = len(words)\n",
    "\n",
    "## find the shortest chapter\n",
    "for c in chapters:\n",
    "    words = tdmh.tokenise(c)\n",
    "    if len(words) < shortest:\n",
    "        shortest = len(words)\n",
    "        \n",
    "for i,c in enumerate(chapters):\n",
    "    words = tdmh.tokenise(c)\n",
    "    words = words[:shortest]\n",
    "    tokens = len(words)\n",
    "    types = len(set(words))\n",
    "    ttr.append(types/tokens)\n",
    "    chapters_id.append(i+1)\n",
    "    \n"
   ]
  },
  {
   "cell_type": "code",
   "execution_count": 14,
   "id": "eae9f713",
   "metadata": {},
   "outputs": [
    {
     "data": {
      "image/png": "[encoded data removed]",
      "text/plain": [
       "<Figure size 360x360 with 1 Axes>"
      ]
     },
     "metadata": {
      "needs_background": "light"
     },
     "output_type": "display_data"
    }
   ],
   "source": [
    "import matplotlib.pyplot as plt\n",
    "import seaborn as sns\n",
    "\n",
    "\n",
    "fig = plt.figure( figsize=(5,5) )\n",
    "\n",
    "\n",
    "\n",
    "graph = sns.barplot( x= chapters_id, y= ttr, color = '#0d912e' , dodge=False )\n",
    "\n",
    "graph.set_title('A Portrait of the Artist' , size = 20) \n",
    "graph.set_xlabel('Chapters' , size = 14) \n",
    "graph.set_ylabel('Type-token ratio' , size = 14 )\n",
    "\n",
    "\n",
    "\n",
    "plt.show()"
   ]
  },
  {
   "cell_type": "markdown",
   "id": "2ea9368a",
   "metadata": {},
   "source": [
    "## Frequencies per segment"
   ]
  },
  {
   "cell_type": "code",
   "execution_count": 11,
   "id": "12bdef68",
   "metadata": {},
   "outputs": [
    {
     "data": {
      "image/png": "[encoded data removed]",
      "text/plain": [
       "<Figure size 864x288 with 1 Axes>"
      ]
     },
     "metadata": {
      "needs_background": "light"
     },
     "output_type": "display_data"
    }
   ],
   "source": [
    "segments = []\n",
    "nr_segments = 20\n",
    "keyword = 'mother'\n",
    "\n",
    "all_words = tdmh.tokenise( full_text )\n",
    "segmentSize = int( len(all_words) / nr_segments )\n",
    "\n",
    "count_words = 0\n",
    "text = ''\n",
    "\n",
    "for word in all_words:\n",
    "    count_words += 1\n",
    "    text += word + ' '\n",
    "\n",
    "    ## This line below used the modulo operator:\n",
    "    ## We can use it to test if the first number is\n",
    "    ## divisible by the second number\n",
    "    if count_words % segmentSize == 0:\n",
    "        segments.append(text.strip())\n",
    "        text = ''\n",
    "\n",
    "\n",
    "segment_freq = []        \n",
    "for s in segments:\n",
    "    hits = re.findall( keyword, s , re.IGNORECASE )\n",
    "    segment_freq.append(len(hits))\n",
    "\n",
    "    \n",
    "fig = plt.figure( figsize = ( 12, 4))\n",
    "ax = sns.lineplot( x= range(1,nr_segments+1), y=  segment_freq , \n",
    "                  color= '#AA6799', linestyle='solid',linewidth=2 )\n",
    "\n",
    "plt.show()       "
   ]
  },
  {
   "cell_type": "code",
   "execution_count": null,
   "id": "c77a64a7",
   "metadata": {},
   "outputs": [],
   "source": []
  }
 ],
 "metadata": {
  "kernelspec": {
   "display_name": "Python 3 (ipykernel)",
   "language": "python",
   "name": "python3"
  },
  "language_info": {
   "codemirror_mode": {
    "name": "ipython",
    "version": 3
   },
   "file_extension": ".py",
   "mimetype": "text/x-python",
   "name": "python",
   "nbconvert_exporter": "python",
   "pygments_lexer": "ipython3",
   "version": "3.7.9"
  }
 },
 "nbformat": 4,
 "nbformat_minor": 5
}
