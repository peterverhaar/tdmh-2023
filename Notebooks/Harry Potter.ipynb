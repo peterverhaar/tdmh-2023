{
 "cells": [
  {
   "cell_type": "code",
   "execution_count": 1,
   "id": "06967439",
   "metadata": {},
   "outputs": [],
   "source": [
    "import tdmh\n",
    "import requests\n",
    "from nltk.corpus import stopwords\n",
    "import re\n",
    "import os\n",
    "from collections import Counter \n",
    "from nltk import word_tokenize , sent_tokenize\n",
    "import matplotlib.pyplot as plt\n",
    "import seaborn as sns\n",
    "\n",
    "\n",
    "from nltk.corpus import stopwords\n",
    "stop_words = list(set(stopwords.words('english')))"
   ]
  },
  {
   "cell_type": "code",
   "execution_count": 2,
   "id": "1c1812cc",
   "metadata": {},
   "outputs": [],
   "source": [
    "corpus = []\n",
    "dir = 'HP_Corpus'\n",
    "\n",
    "for file in sorted(os.listdir(dir)):\n",
    "    corpus.append(os.path.join(dir,file))\n"
   ]
  },
  {
   "cell_type": "markdown",
   "id": "8db6ca1f",
   "metadata": {},
   "source": [
    "## Calculate word frequencies per book"
   ]
  },
  {
   "cell_type": "code",
   "execution_count": 3,
   "id": "7043dd46",
   "metadata": {},
   "outputs": [
    {
     "name": "stdout",
     "output_type": "stream",
     "text": [
      "\n",
      "HP_Corpus/Book 1 - The Philosopher's Stone.txt\n",
      "he (548)\n",
      "stone (423)\n",
      "hagrid (370)\n",
      "philosophers (347)\n",
      "the (314)\n",
      "it (288)\n",
      "back (255)\n",
      "one (251)\n",
      "got (206)\n",
      "could (198)\n",
      "get (194)\n",
      "like (192)\n",
      "they (183)\n",
      "know (181)\n",
      "see (178)\n",
      "professor (177)\n",
      "looked (169)\n",
      "snape (168)\n",
      "you (165)\n",
      "dumbledore (158)\n",
      "\n",
      "HP_Corpus/Book 2 - The Chamber of Secrets.txt\n",
      "chamber (464)\n",
      "he (435)\n",
      "secrets (424)\n",
      "the (335)\n",
      "back (276)\n",
      "it (258)\n",
      "lockhart (234)\n",
      "malfoy (221)\n",
      "one (216)\n",
      "could (211)\n",
      "you (211)\n",
      "professor (192)\n",
      "got (188)\n",
      "but (181)\n",
      "like (178)\n",
      "around (173)\n",
      "weasley (171)\n",
      "and (168)\n",
      "what (167)\n",
      "know (163)\n",
      "\n",
      "HP_Corpus/Book 3 - The Prisoner of Azkaban.txt\n",
      "he (618)\n",
      "azkaban (530)\n",
      "prisoner (490)\n",
      "professor (414)\n",
      "lupin (407)\n",
      "the (400)\n",
      "black (381)\n",
      "back (353)\n",
      "it (309)\n",
      "you (290)\n",
      "one (287)\n",
      "hagrid (267)\n",
      "snape (246)\n",
      "around (246)\n",
      "looked (242)\n",
      "like (240)\n",
      "could (231)\n",
      "but (226)\n",
      "see (225)\n",
      "they (224)\n",
      "\n",
      "HP_Corpus/Book 4 - The Goblet of Fire.txt\n",
      "he (1132)\n",
      "fire (925)\n",
      "goblet (877)\n",
      "the (743)\n",
      "dumbledore (594)\n",
      "back (585)\n",
      "mr. (494)\n",
      "around (489)\n",
      "looked (489)\n",
      "one (482)\n",
      "it (458)\n",
      "could (454)\n",
      "you (444)\n",
      "like (436)\n",
      "got (419)\n",
      "though (417)\n",
      "would (409)\n",
      "weasley (392)\n",
      "hagrid (379)\n",
      "moody (369)\n",
      "\n",
      "HP_Corpus/Book 5 - The Order of the Phoenix.txt\n",
      "he (1402)\n",
      "order (1211)\n",
      "phoenix (1134)\n",
      "the (860)\n",
      "back (780)\n",
      "well (657)\n",
      "dumbledore (653)\n",
      "sirius (641)\n",
      "could (637)\n",
      "you (603)\n",
      "professor (578)\n",
      "umbridge (565)\n",
      "would (548)\n",
      "around (546)\n",
      "looked (540)\n",
      "know (528)\n",
      "it (526)\n",
      "like (521)\n",
      "one (507)\n",
      "got (504)\n",
      "\n",
      "HP_Corpus/Book 6 - The Half Blood Prince.txt\n",
      "dumbledore (1022)\n",
      "he (805)\n",
      "prince (801)\n",
      "half (783)\n",
      "blood (777)\n",
      "the (506)\n",
      "could (482)\n",
      "would (455)\n",
      "you (431)\n",
      "it (419)\n",
      "back (417)\n",
      "one (400)\n",
      "slughorn (397)\n",
      "well (384)\n",
      "snape (372)\n",
      "malfoy (370)\n",
      "know (357)\n",
      "and (355)\n",
      "but (352)\n",
      "like (352)\n",
      "\n",
      "HP_Corpus/Book 7 - The Deathly Hallows.txt\n",
      "he (1190)\n",
      "the (961)\n",
      "hallows (920)\n",
      "deathly (888)\n",
      "could (646)\n",
      "dumbledore (583)\n",
      "wand (573)\n",
      "it (559)\n",
      "back (533)\n",
      "you (476)\n",
      "know (460)\n",
      "like (454)\n",
      "would (450)\n",
      "voldemort (442)\n",
      "one (437)\n",
      "looked (432)\n",
      "and (376)\n",
      "around (359)\n",
      "but (349)\n",
      "still (345)\n"
     ]
    }
   ],
   "source": [
    "stop_words.extend(['Harry','Potter','Hermione','Ron','I','said','Page','J.K.','Rowling'])\n",
    "\n",
    "for book in corpus:\n",
    "    print('\\n'+book)\n",
    "\n",
    "    file = open(book,encoding='utf-8')\n",
    "    full_text = file.read()\n",
    "\n",
    "    all_words = word_tokenize(full_text)\n",
    "    words = []\n",
    "    for w in all_words:\n",
    "        if w not in stop_words and re.search( r'\\w' , w ):\n",
    "            words.append(w.lower())\n",
    "   \n",
    "    freq = Counter(words)\n",
    "    for w,freq in freq.most_common(20):\n",
    "        print( f'{w} ({freq})')\n",
    "    "
   ]
  },
  {
   "cell_type": "markdown",
   "id": "2ea9368a",
   "metadata": {},
   "source": [
    "## Frequencies per segment"
   ]
  },
  {
   "cell_type": "code",
   "execution_count": 7,
   "id": "12bdef68",
   "metadata": {},
   "outputs": [
    {
     "name": "stdout",
     "output_type": "stream",
     "text": [
      "HP_Corpus/Book 1 - The Philosopher's Stone.txt\n"
     ]
    },
    {
     "data": {
      "image/png": "[encoded data removed]",
      "text/plain": [
       "<Figure size 864x288 with 1 Axes>"
      ]
     },
     "metadata": {
      "needs_background": "light"
     },
     "output_type": "display_data"
    }
   ],
   "source": [
    "segments = []\n",
    "nr_segments = 20\n",
    "keyword = 'wizard'\n",
    "\n",
    "book = corpus[0] \n",
    "print(book)\n",
    "file = open(book,encoding='utf-8')\n",
    "full_text = file.read()\n",
    "\n",
    "all_words = tdmh.tokenise( full_text )\n",
    "segmentSize = int( len(all_words) / nr_segments )\n",
    "\n",
    "count_words = 0\n",
    "text = ''\n",
    "\n",
    "for word in all_words:\n",
    "    count_words += 1\n",
    "    text += word + ' '\n",
    "\n",
    "    ## This line below used the modulo operator:\n",
    "    ## We can use it to test if the first number is\n",
    "    ## divisible by the second number\n",
    "    if count_words % segmentSize == 0:\n",
    "        segments.append(text.strip())\n",
    "        text = ''\n",
    "\n",
    "\n",
    "segment_freq = []        \n",
    "for s in segments:\n",
    "    hits = re.findall( keyword, s , re.IGNORECASE )\n",
    "    segment_freq.append(len(hits))\n",
    "\n",
    "    \n",
    "fig = plt.figure( figsize = ( 12, 4))\n",
    "ax = sns.lineplot( x= range(1,nr_segments+1), y=  segment_freq , \n",
    "                  color= '#AA6799', linestyle='solid',linewidth=2 )\n",
    "\n",
    "ax.set_title( f'Frequencies for \"{keyword}\"' , size = 20) \n",
    "\n",
    "plt.show()       "
   ]
  },
  {
   "cell_type": "markdown",
   "id": "eb1d5370",
   "metadata": {},
   "source": [
    "## Average Sentence length"
   ]
  },
  {
   "cell_type": "code",
   "execution_count": 5,
   "id": "ca637e39",
   "metadata": {},
   "outputs": [
    {
     "name": "stdout",
     "output_type": "stream",
     "text": [
      "The Philosopher's Stone\n",
      "The Chamber of Secrets\n",
      "The Prisoner of Azkaban\n",
      "The Goblet of Fire\n",
      "The Order of the Phoenix\n",
      "The Half Blood Prince\n",
      "The Deathly Hallows\n"
     ]
    }
   ],
   "source": [
    "avg_sent_len = dict()\n",
    "\n",
    "for book in corpus:\n",
    "\n",
    "\n",
    "    file = open(book,encoding='utf-8')\n",
    "    full_text = file.read()\n",
    "    \n",
    "    sentences = sent_tokenize(full_text)\n",
    "    words = word_tokenize(full_text)\n",
    "    words = tdmh.remove_punctuation(words)\n",
    "    \n",
    "    book_title = book[ book.index('-')+1:].strip()\n",
    "    book_title = re.sub( '.txt$' , '' , book_title )\n",
    "    print(book_title)\n",
    "    \n",
    "    avg_sent_len[book_title] = len(words) / len(sentences)\n"
   ]
  },
  {
   "cell_type": "code",
   "execution_count": 6,
   "id": "f5a37f0e",
   "metadata": {},
   "outputs": [
    {
     "data": {
      "image/png": "[encoded data removed]",
      "text/plain": [
       "<Figure size 504x360 with 1 Axes>"
      ]
     },
     "metadata": {
      "needs_background": "light"
     },
     "output_type": "display_data"
    }
   ],
   "source": [
    "import matplotlib.pyplot as plt\n",
    "import seaborn as sns\n",
    "\n",
    "fig = plt.figure( figsize=( 7 , 5 ) )\n",
    "\n",
    "graph = sns.barplot( x= list(avg_sent_len.keys()), y= list(avg_sent_len.values()) , color = '#fcba03' , dodge=False )\n",
    "\n",
    "graph.set_title('Harry Potter books' , size = 20) \n",
    "graph.set_xlabel('Title' , size = 14 )\n",
    "graph.set_ylabel('Average number of words per sentence' , size = 14) \n",
    "\n",
    "\n",
    "plt.xticks(rotation= 80)\n",
    "\n",
    "plt.show()\n"
   ]
  },
  {
   "cell_type": "code",
   "execution_count": null,
   "id": "2d7e4cce",
   "metadata": {},
   "outputs": [],
   "source": []
  }
 ],
 "metadata": {
  "kernelspec": {
   "display_name": "Python 3 (ipykernel)",
   "language": "python",
   "name": "python3"
  },
  "language_info": {
   "codemirror_mode": {
    "name": "ipython",
    "version": 3
   },
   "file_extension": ".py",
   "mimetype": "text/x-python",
   "name": "python",
   "nbconvert_exporter": "python",
   "pygments_lexer": "ipython3",
   "version": "3.7.9"
  }
 },
 "nbformat": 4,
 "nbformat_minor": 5
}
