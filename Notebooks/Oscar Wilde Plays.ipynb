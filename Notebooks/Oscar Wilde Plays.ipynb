{
 "cells": [
  {
   "cell_type": "code",
   "execution_count": 1,
   "id": "fe12e578",
   "metadata": {},
   "outputs": [],
   "source": [
    "import requests\n",
    "import xml.etree.ElementTree as ET\n",
    "import re\n"
   ]
  },
  {
   "cell_type": "code",
   "execution_count": 2,
   "id": "80824688",
   "metadata": {},
   "outputs": [],
   "source": [
    "def find_character_name(speaker_name):\n",
    "    names = []\n",
    "    speaker_name = re.sub( r'\\.$' , '' , speaker_name )\n",
    "    if re.search( r'\\s+and\\s+' , speaker_name):\n",
    "        parts = re.split( r'\\s+and\\s+' , speaker_name )\n",
    "        names.append(parts[0])\n",
    "        names.append(parts[1])\n",
    "    else:\n",
    "        names.append(speaker_name)\n",
    "    return names"
   ]
  },
  {
   "cell_type": "code",
   "execution_count": 3,
   "id": "c66ccabc",
   "metadata": {},
   "outputs": [],
   "source": [
    "def download_tei(url):\n",
    "    response = requests.get(url)\n",
    "    if response:\n",
    "        xml_file = response.text\n",
    "        xml_file = re.sub( r'&[mn]dash;' , '&#x2014;' , xml_file )\n",
    "        xml_file = re.sub( r'&auml;' , '&#xC4;' , xml_file )\n",
    "        xml_file = re.sub( r'&eacute;' , '&#xE9;' , xml_file )\n",
    "        xml_file = re.sub( r'&aelig;' , 'ae' , xml_file )\n",
    "        xml_file = re.sub( r'&hellip;' , '' , xml_file )\n",
    "        xml_file = re.sub( r'&pound;' , '' , xml_file )\n",
    "        xml_file = re.sub( r'&agrave;' , '' , xml_file )\n",
    "        xml_file = re.sub( r'&egrave;' , '' , xml_file )\n",
    "        \n",
    "\n",
    "\n",
    "    with open('tei.xml','w',encoding='utf-8') as f:\n",
    "        f.write(xml_file)\n",
    "\n",
    "def dramatis_personae(url):\n",
    "    download_tei(url)\n",
    "    tree = ET.parse('tei.xml')\n",
    "    root = tree.getroot()\n",
    "    dramatis_personae = dict()\n",
    "\n",
    "    count_sp = 0\n",
    "    for speaker in root.findall('.//speaker'):\n",
    "        count_sp += 1\n",
    "        names = find_character_name(speaker.text)\n",
    "        for name in names:\n",
    "            dramatis_personae[name] = dramatis_personae.get(name,0)+1\n",
    "    return list(dramatis_personae.keys())\n"
   ]
  },
  {
   "cell_type": "code",
   "execution_count": 4,
   "id": "29ec67b7",
   "metadata": {},
   "outputs": [],
   "source": [
    "def get_texts(title,url,male,female):\n",
    "    download_tei(url)\n",
    "    lines = dict()\n",
    "    tree = ET.parse('tei.xml')\n",
    "    root = tree.getroot()\n",
    "    for sp in root.findall('.//sp'):\n",
    "        for child in sp:\n",
    "            if child.tag == 'speaker':\n",
    "                name = find_character_name(child.text)[0]\n",
    "\n",
    "            if child.tag == 'p':\n",
    "                text = re.sub( r'\\s+' , ' ' , str(child.text) )\n",
    "                text = re.sub( r'—' , ' - ' , str(text) )\n",
    "                \n",
    "                if str(text) != 'None':\n",
    "                    if name in male:\n",
    "                        lines['Male'] = lines.get('Male','') + f'{text} \\n'\n",
    "                    else:\n",
    "                        lines['Female'] = lines.get('Female','') + f'{text} \\n'\n",
    "    out = open( f'{title}_male.txt','w',encoding='utf-8')\n",
    "    out.write(lines['Male'])\n",
    "    out.close()\n",
    "\n",
    "    out = open( f'{title}_female.txt','w',encoding='utf-8')\n",
    "    out.write(lines['Female'])\n",
    "    out.close()\n"
   ]
  },
  {
   "cell_type": "markdown",
   "id": "2361ed13",
   "metadata": {},
   "source": [
    "## Importance of Being Earnest"
   ]
  },
  {
   "cell_type": "code",
   "execution_count": 5,
   "id": "d8ab8c01",
   "metadata": {},
   "outputs": [
    {
     "name": "stdout",
     "output_type": "stream",
     "text": [
      "['Algernon', 'Lane', 'Jack', 'Lady Bracknell', 'Gwendolen', 'Miss Prism', 'Cecily', 'Chasuble', 'Merriman']\n"
     ]
    }
   ],
   "source": [
    "url = 'http://www.ucc.ie/celt/texts/E850003-002.xml'\n",
    "\n",
    "names = dramatis_personae(url)\n",
    "print(names)        "
   ]
  },
  {
   "cell_type": "code",
   "execution_count": 6,
   "id": "06b7e50c",
   "metadata": {},
   "outputs": [],
   "source": [
    "male = ['Algernon', 'Lane', 'Jack', 'Chasuble', 'Merriman']\n",
    "female = [ 'Lady Bracknell', 'Gwendolen', 'Miss Prism', 'Cecily']\n",
    "title = 'TheImportanceOfBeingEarnest'\n",
    "get_texts(title,url,male,female)"
   ]
  },
  {
   "cell_type": "markdown",
   "id": "f6cea7b9",
   "metadata": {},
   "source": [
    "## Lady Windermere's Fan"
   ]
  },
  {
   "cell_type": "code",
   "execution_count": 7,
   "id": "d2c6c826",
   "metadata": {},
   "outputs": [
    {
     "name": "stdout",
     "output_type": "stream",
     "text": [
      "['PARKER:', 'LADY WINDERMERE:', 'LORD DARLINGTON:', 'LADY  WINDERMERE:', 'DUCHESS OF BERWICK:', 'LORD  DARLINGTON:', 'LADY AGATHA:', 'LORD WINDERMERE:', 'DUMBY:', 'LADY STUTFIELD:', 'MRS COWPER-COWPER:', 'HOPPER:', 'LORD AUGUSTUS:', 'CECIL GRAHAM:', 'LADY PLYMDALE:', 'MRS ERLYNNE:', 'LADY JEDBURGH:', 'MRS. ERLYNNE:', 'MRS.  ERLYNNE:', 'ROSALIE:']\n"
     ]
    }
   ],
   "source": [
    "url = 'https://celt.ucc.ie/texts/E850003-105.xml'\n",
    "\n",
    "names = dramatis_personae(url)\n",
    "print(names)  "
   ]
  },
  {
   "cell_type": "code",
   "execution_count": 8,
   "id": "6497d000",
   "metadata": {},
   "outputs": [],
   "source": [
    "male = ['PARKER:', 'LORD DARLINGTON:', 'LORD  DARLINGTON:',  'LORD WINDERMERE:', 'DUMBY:', 'HOPPER:', 'LORD AUGUSTUS:' , 'CECIL GRAHAM:']\n",
    "female = ['LADY WINDERMERE:',  'LADY  WINDERMERE:', 'DUCHESS OF BERWICK:',  'LADY AGATHA:',   'LADY STUTFIELD:', 'MRS COWPER-COWPER:',  'LADY PLYMDALE:', 'MRS ERLYNNE:', 'LADY JEDBURGH:', 'MRS. ERLYNNE:', 'MRS.  ERLYNNE:', 'ROSALIE:']\n",
    "title = \"LadyWindermeresFan\"\n",
    "get_texts(title,url,male,female)"
   ]
  },
  {
   "cell_type": "markdown",
   "id": "2d8b763f",
   "metadata": {},
   "source": [
    "## An Ideal Husband"
   ]
  },
  {
   "cell_type": "code",
   "execution_count": 9,
   "id": "20169ee8",
   "metadata": {},
   "outputs": [
    {
     "name": "stdout",
     "output_type": "stream",
     "text": [
      "['MRS. MARCHMONT:', 'LADY BASILDON:', 'LADY  BASILDON:', 'MRS.  MARCHMONT:', 'MASON:', 'LORD CAVERSHAM:', 'LADY CHILTERN:', 'MABEL CHILTERN:', 'LADY MARKBY:', 'MRS. CHEVELEY:', 'VICOMTE DE NANJAC:', 'SIR ROBERT CHILTERN:', 'LORD GORING:', 'MR. MONTFORD:', 'PHIPPS:', 'LORD  GORING:', 'HAROLD:', 'JAMES:']\n"
     ]
    }
   ],
   "source": [
    "url = 'https://celt.ucc.ie/texts/E850003-108.xml'\n",
    "\n",
    "names = dramatis_personae(url)\n",
    "print(names)  "
   ]
  },
  {
   "cell_type": "code",
   "execution_count": 10,
   "id": "8a674123",
   "metadata": {},
   "outputs": [],
   "source": [
    "male = [ 'MASON:', 'LORD CAVERSHAM:',  'VICOMTE DE NANJAC:', 'SIR ROBERT CHILTERN:', 'LORD GORING:', 'MR. MONTFORD:', 'PHIPPS:', 'LORD  GORING:', 'HAROLD:', 'JAMES:']\n",
    "female = ['MRS. MARCHMONT:', 'LADY BASILDON:', 'LADY  BASILDON:', 'MRS. CHEVELEY:','MRS.  MARCHMONT:','LADY CHILTERN:', 'MABEL CHILTERN:', 'LADY MARKBY:' ]\n",
    "title = \"AnIdealHusband\"\n",
    "get_texts(title,url,male,female)"
   ]
  },
  {
   "cell_type": "code",
   "execution_count": null,
   "id": "a70097c8",
   "metadata": {},
   "outputs": [],
   "source": []
  }
 ],
 "metadata": {
  "kernelspec": {
   "display_name": "Python 3 (ipykernel)",
   "language": "python",
   "name": "python3"
  },
  "language_info": {
   "codemirror_mode": {
    "name": "ipython",
    "version": 3
   },
   "file_extension": ".py",
   "mimetype": "text/x-python",
   "name": "python",
   "nbconvert_exporter": "python",
   "pygments_lexer": "ipython3",
   "version": "3.7.9"
  }
 },
 "nbformat": 4,
 "nbformat_minor": 5
}
