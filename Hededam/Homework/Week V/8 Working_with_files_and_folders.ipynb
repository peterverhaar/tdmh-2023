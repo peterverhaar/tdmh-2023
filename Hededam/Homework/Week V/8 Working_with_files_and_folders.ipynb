{
 "cells": [
  {
   "cell_type": "markdown",
   "metadata": {},
   "source": [
    "# 8. Working with files and folders\n",
    "\n",
    "\n",
    "## Reading a file\n",
    "\n",
    "\n",
    "If the data that you need to work with in a reseaech project is saved as a file on your computer, you can write a program to read this file and to make its contents available within the context of your code.\n",
    "\n",
    "In Python, files can be read using the `open()` function. The result of this function is a new object which is called a file handler (or, more specifically, a `TextIOWrapper` object). Simply put, a file handler is an object which establishes a connection to the text file on your disk. You are free to give this file handler object any name you like. \n",
    "\n",
    "When you use the `open()` function, you are also recommended to specify the character encoding scheme that has been used in the text file, using the `encoding` parameter. This will help Python to process all the characters correctly. \n",
    "\n",
    "Once the connection is established via the `open()` fuction, you can access the contents of the file in a variety of ways. A first option is to read the contents on a line-by-line or a paragraph-by-paragraph basis. This first approach can be followed when units such as lines or paragraphs in the text are delineated using the hard return or the newline character. If this is the case, the file handler that is created for the file, using `open()`, also becomes iterable: the `for` keyword can then be used to iterate across the various units represented by this file handler. \n",
    " \n",
    "The code below demonstrates how you can read and display the full contents of a text file, paragraph by paragraph. It assumes that there is a file named \"BraveNewWorld.txt\", saved in the same directory as the code. It also assumes that the various paragraphs are separated using a hard return. "
   ]
  },
  {
   "cell_type": "code",
   "execution_count": 1,
   "metadata": {},
   "outputs": [
    {
     "name": "stdout",
     "output_type": "stream",
     "text": [
      "\n",
      "BRAVE NEW WORLD\n",
      "A NOVEL BY ALDOUS HUXLEY\n",
      "\n",
      "Chapter I\n",
      "\n",
      "A squat grey building of only thirty-four stories. Over the main entrance the words, =Central London Hatchery and Conditioning Centre=, and, in a shield, the World State's motto, =Community, Identity, Stability=.\n",
      "The enormous room on the ground-floor faced towards the north. Cold for all the summer beyond the panes, for all the tropical heat of the room itself, a harsh thin light glared through the windows, hungrily seeking some draped lay figure, some pallid shape of academic goose-flesh, but finding only the glass and nickel and bleakly shining porcelain of a laboratory. Wintriness responded to wintriness. The overalls of the workers were white, their hands gloved with a pale corpse-coloured rubber. The light was frozen, dead, a ghost. Only from the yellow barrels of the microscopes did it borrow a certain rich and living substance, lying along the polished tubes like butter, streak after luscious streak in long recession down the work-tables.\n",
      "'And this,' said the Director opening the door, 'is the Fertilizing Room.'\n",
      "Bent over their instruments, three hundred Fertilizers were plunged, as the Director of Hatcheries and Conditioning entered the room, in the scarcely breathing silence, the absent-minded, soliloquizing hum or whistle, of absorbed concentration. A troop of newly arrived students, very young, pink and callow, followed nervously, rather abjectly, at the Director's heels. Each of them carried a note-book, in which, whenever the great man spoke, he desperately scribbled. Straight from the horse's mouth. It was a rare privilege. The D.H.C. for Central London always made a point of personally conducting his new students round the various departments.\n",
      "'Just to give you a general idea,' he would explain to them. For of course some sort of general idea they must have, if they were to do their work intelligently--though as little of one, if they were to be good and happy members of society, as possible. For particulars, as every one knows, make for virtue and happiness; generalities are intellectually necessary evils. Not philosophers, but fret-sawyers and stamp collectors compose the backbone of society.\n",
      "'To-morrow,' he would add, smiling at them with a slightly menacing geniality, 'you'll be settling down to serious work. You won't have time for generalities. Meanwhile...'\n",
      "Meanwhile, it was a privilege. Straight from the horse's mouth into the\n",
      "note-book. The boys scribbled like mad.\n"
     ]
    }
   ],
   "source": [
    "text = open(\"BraveNewWorld.txt\" , encoding = 'utf-8' )\n",
    "\n",
    "for text_unit in text:\n",
    "    print(text_unit, end = '')"
   ]
  },
  {
   "cell_type": "markdown",
   "metadata": {},
   "source": [
    "In the case of short texts, you can also make use of the `read()` function. When you do this, the entire text will not be divided into smaller units. The full contents of the text file will become available as one long string. "
   ]
  },
  {
   "cell_type": "code",
   "execution_count": 2,
   "metadata": {},
   "outputs": [
    {
     "name": "stdout",
     "output_type": "stream",
     "text": [
      "just setting up my twttr  20060321  @jack\n",
      "\n"
     ]
    }
   ],
   "source": [
    "text = open(\"tweet.txt\" , encoding = 'utf-8' )\n",
    "full_text = text.read()\n",
    "print(full_text)"
   ]
  },
  {
   "cell_type": "markdown",
   "metadata": {},
   "source": [
    "After we have run this code, we can manipulate the string that is created by the `read()` function just like any other string.\n",
    "\n",
    "It is good practice to close the file handler when you are done working on it, using the `close()` method. "
   ]
  },
  {
   "cell_type": "code",
   "execution_count": 3,
   "metadata": {},
   "outputs": [],
   "source": [
    "text.close()"
   ]
  },
  {
   "cell_type": "markdown",
   "metadata": {},
   "source": [
    "Next to the options that have been discussed so far, you can also read files by making use of a mechanism that is referred to as a context handler. \n",
    "\n",
    "Context handlers are created using the `with` keyword. After `with`, yu need to use the `open()` function. This `open()` function needs to be followed by the words `as` and the name you would like to give to the file handler. In the code block underneath `with`, you can access the contents of this file handler. It is generally useful to assign the contents of the text file to a variable. When the code block underneath `with` ends, the file handler is closed automatically. This is actually a great advantage of a context handler. You don't risk forgetting to include the `close()` function.  "
   ]
  },
  {
   "cell_type": "code",
   "execution_count": 4,
   "metadata": {},
   "outputs": [],
   "source": [
    "file = \"BraveNewWorld.txt\"\n",
    "\n",
    "with open(file, encoding = 'utf-8') as text:\n",
    "    contents = text.read()\n"
   ]
  },
  {
   "cell_type": "markdown",
   "metadata": {},
   "source": [
    "## Writing to a file\n",
    "\n",
    "When you run a Python program using the Command Prompt, the full output will normally be printed on the Command Prompt as well. The output of code created in a Jupyter notebook will normally be shown directly underneath the code cell. \n",
    "\n",
    "When the program has many lines to print, it can be very difficult to read the output. In such cases, it can useful to create a new text file which will receive all the output. The results of the program can then be inspected by opening this new file in a text editor. \n",
    "\n",
    "The function `open()`, which can be used to read files, can also be invoked to create a new file. Instead of referencing a file which already exists on your disk, you need to provide a new file name. Next to this, you also need to supply a second parameter, the character “w”, which stands for “write”. This “w” character makes it clear to Python that you want to write to a file. The `open()` function used with the “w” parameter similarly creates a file handler.\n",
    "\n",
    "This handler has a `write()` method, which functions very similarly to the `print()` function. The crucial difference, however, is that the output is not sent to the default output device (e.g. the Command Prompt or Jupyter Notebook), but to the file that is associated with this file handler. "
   ]
  },
  {
   "cell_type": "code",
   "execution_count": 5,
   "metadata": {},
   "outputs": [],
   "source": [
    "out = open('data.txt' , 'w')\n",
    "\n",
    "out.write( \"This text is in a file named 'data.txt' \" )\n",
    "\n",
    "out.close()"
   ]
  },
  {
   "cell_type": "markdown",
   "metadata": {},
   "source": [
    "## Reading the contents of a folder\n",
    "\n",
    "The `open()` function can be used, as discussed, to read individual files. It is also possible to read the contents of folders with multiple files. For this purpose, you can make use of the `os` library . The two letters in the name of this library stand for 'operating system'. The library includes various functions that can help you to work with files and folders. One useful method is `listdir()`, which, expectedly, enables you to list all the files in a given directory. \n",
    "\n",
    "To make use of `os`, this library needs to be imported first.  "
   ]
  },
  {
   "cell_type": "code",
   "execution_count": 6,
   "metadata": {},
   "outputs": [
    {
     "name": "stdout",
     "output_type": "stream",
     "text": [
      ".ipynb_checkpoints\n",
      "1 Variables_and_data_types.ipynb\n",
      "10 Data_acquisition.ipynb\n",
      "11 Pandas.ipynb\n",
      "12 Visualisation.ipynb\n",
      "2 Operators.ipynb\n",
      "3 Working_with_strings.ipynb\n",
      "4 Flow_control.ipynb\n",
      "5 Lists.ipynb\n",
      "6 Dictionaries.ipynb\n",
      "7 Functions_modules_and_libraries.ipynb\n",
      "8 Working_with_files_and_folders.ipynb\n",
      "9 Regular_expressions.ipynb\n"
     ]
    }
   ],
   "source": [
    "import os\n",
    "\n",
    "dir = 'Solutions'\n",
    "\n",
    "for fileName in os.listdir( dir ):\n",
    "    print( fileName )"
   ]
  },
  {
   "cell_type": "markdown",
   "metadata": {},
   "source": [
    "The function `join()`, which is part of the `path` module of `os`, can be used to create a string representing the path to a certain file. If you have one variable which records the base directory of a file, and a second variable which captures the filename, the `join()` function can concatenate the values of these two variables to create the full path to this file. The `join()` function always follows the conventions that are in place on a given operating system for representing paths. There can often be certain differences. While Mac OS uses forward slashes, for instance, Windows uses back slashes. Working with `join()` makes your code more platform-independent.        \n",
    "\n",
    "Another useful function in `os` is `isfile()`. As you list the files in a certain directory, using `listdir()`, you can apply this function to check whether you are dealing with a file or with something else ( e.g. a subdirectory).\n",
    "\n",
    "The code below offers a demostration of these two functions. It lists all the files in the directory that is mentiond, and makes sure that all the subdirectories are ignored. Note that the first line imports the two functions that have been discussed above. As a result of this, it is no longer necessary to use the period syntax for `isfile()` and `join()`.  "
   ]
  },
  {
   "cell_type": "code",
   "execution_count": 7,
   "metadata": {},
   "outputs": [
    {
     "name": "stdout",
     "output_type": "stream",
     "text": [
      "1 Variables_and_data_types.ipynb\n",
      "10 Data_acquisition.ipynb\n",
      "11 Pandas.ipynb\n",
      "12 Visualisation.ipynb\n",
      "2 Operators.ipynb\n",
      "3 Working_with_strings.ipynb\n",
      "4 Flow_control.ipynb\n",
      "5 Lists.ipynb\n",
      "6 Dictionaries.ipynb\n",
      "7 Functions_modules_and_libraries.ipynb\n",
      "8 Working_with_files_and_folders.ipynb\n",
      "9 Regular_expressions.ipynb\n"
     ]
    }
   ],
   "source": [
    "from os.path import isfile , join\n",
    "\n",
    "dir = 'Solutions'\n",
    "\n",
    "for fileName in os.listdir( dir ):\n",
    "    if isfile( join( dir , fileName ) ):\n",
    "        print( fileName ) \n"
   ]
  },
  {
   "cell_type": "markdown",
   "metadata": {},
   "source": [
    "# Exercises"
   ]
  },
  {
   "cell_type": "markdown",
   "metadata": {},
   "source": [
    "## Exercise 8.1.\n",
    "\n",
    "Find a directory on your own computer which contains both files and subfolders. Define the path to this folder, as a variable named `path`.\n",
    "\n",
    "Next, write some code that can list only the subdirectories in this directories, and which ignores the individual files, using the functions `listdir()` and `isfile`. \n",
    "\n",
    "Finally, also try to list all the files in one of these subdirectories. "
   ]
  },
  {
   "cell_type": "code",
   "execution_count": 8,
   "metadata": {},
   "outputs": [
    {
     "name": "stdout",
     "output_type": "stream",
     "text": [
      "5 Lists.ipynb\n",
      "6 Dictionaries.ipynb\n",
      "7 Functions_modules_and_libraries.ipynb\n"
     ]
    }
   ],
   "source": [
    "import os\n",
    "\n",
    "dir = r\"C:\\Users\\cshed\\Documents\\Leiden University\\MA S2\\Text & Data Mining\\Homework Exercises\"\n",
    "\n",
    "for item in os.listdir(dir):\n",
    "    print(item)"
   ]
  },
  {
   "cell_type": "raw",
   "metadata": {},
   "source": [
    "#r in front of a string means to treat the string in its raw form. In the above example, the backslash usually tells python to ignore the normal function of the following character. Using r means it will treat them as just a regular part of teh string (i.e., as folder directions)."
   ]
  },
  {
   "cell_type": "markdown",
   "metadata": {},
   "source": [
    "## Exercise 8.2.\n",
    "\n",
    "Download the following file:\n",
    "\n",
    "[https://edu.nl/ggwtf](https://edu.nl/ggwtf)\n",
    "\n",
    "The file contains the text of a poem. \n",
    "\n",
    "Print the content of the poem that you have downloaded for exercises 8.2 on your screen, and make sure that you also add line numbers, as follows:\n",
    "    \n",
    "```\n",
    "1. [line1]\n",
    "2. [line2]\n",
    "```\n"
   ]
  },
  {
   "cell_type": "code",
   "execution_count": 9,
   "metadata": {},
   "outputs": [],
   "source": [
    "import requests\n",
    "\n",
    "response = requests.get('https://edu.nl/ggwtf')\n",
    "\n",
    "if response.status_code == 200:\n",
    "    response.encoding = 'utf-8'\n",
    "    contents = response.text\n",
    "    with open('sonnet116.txt' , 'w' , encoding = 'utf-8') as fh:\n",
    "        fh.write(contents)"
   ]
  },
  {
   "cell_type": "code",
   "execution_count": 4,
   "metadata": {},
   "outputs": [
    {
     "name": "stdout",
     "output_type": "stream",
     "text": [
      "1.Let me not to the marriage of true minds\n",
      "2.Admit impediments. Love is not love\n",
      "3.Which alters when it alteration finds,\n",
      "4.Or bends with the remover to remove:\n",
      "5.O, no! it is an ever-fixed mark,\n",
      "6.That looks on tempests and is never shaken;\n",
      "7.It is the star to every wandering bark,\n",
      "8.Whose worth’s unknown, although his height be taken.\n",
      "9.Love’s not Time’s fool, though rosy lips and cheeks\n",
      "10.Within his bending sickle’s compass come;\n",
      "11.Love alters not with his brief hours and weeks,\n",
      "12.But bears it out even to the edge of doom.\n",
      "13.If this be error and upon me proved,\n",
      "14.I never writ, nor no man ever loved.\n"
     ]
    }
   ],
   "source": [
    "poem = open('sonnet116.txt', encoding = 'utf-8')\n",
    "\n",
    "lineNr = 1\n",
    "for line in poem:\n",
    "    print(f'{lineNr}.' , end = '')\n",
    "    print(line.strip())\n",
    "    lineNr += 1"
   ]
  },
  {
   "cell_type": "code",
   "execution_count": 7,
   "metadata": {},
   "outputs": [],
   "source": [
    "\n",
    "    "
   ]
  },
  {
   "cell_type": "markdown",
   "metadata": {},
   "source": [
    "## Exercise 8.3\n",
    "\n",
    "\n",
    "Create a new file named ‘data.txt’, which gives information about the following aspects of this poem you have downloaded for exercise 8.2:\n",
    "\n",
    "* The number of lines\n",
    "* The total number of characters in the file\n",
    "* The average number of characters per line\n",
    "* The longest line of the sonnet (i.e. the line with the highest number of characters)\n",
    "\n",
    "The average number of characters per line can be calculated by dividing the total number of characters by the number of lines.\n"
   ]
  },
  {
   "cell_type": "code",
   "execution_count": null,
   "metadata": {},
   "outputs": [],
   "source": [
    "file = open('data.txt', encoding = 'utf-8')\n",
    "\n"
   ]
  }
 ],
 "metadata": {
  "kernelspec": {
   "display_name": "Python 3 (ipykernel)",
   "language": "python",
   "name": "python3"
  },
  "language_info": {
   "codemirror_mode": {
    "name": "ipython",
    "version": 3
   },
   "file_extension": ".py",
   "mimetype": "text/x-python",
   "name": "python",
   "nbconvert_exporter": "python",
   "pygments_lexer": "ipython3",
   "version": "3.9.7"
  }
 },
 "nbformat": 4,
 "nbformat_minor": 2
}
